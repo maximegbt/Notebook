{
 "cells": [
  {
   "cell_type": "markdown",
   "metadata": {
    "slideshow": {
     "slide_type": "slide"
    }
   },
   "source": [
    "# S3. Introduction to Descriptive Statistics."
   ]
  },
  {
   "cell_type": "markdown",
   "metadata": {},
   "source": [
    "<img src=\"Figures/stats1.png\" alt=\"Drawing\" style=\"width: 600px;\"/>"
   ]
  },
  {
   "cell_type": "markdown",
   "metadata": {},
   "source": [
    "### CONTENTS \n",
    "* 1. Sample vs Population\n",
    "* 2. Summary and data cleaning\n",
    "* 3. Descriptive Statistics visualization"
   ]
  },
  {
   "cell_type": "markdown",
   "metadata": {},
   "source": [
    "## 1. Sample vs. Population\n",
    "\n",
    "We will usually find ourselves in a situation where we wish to answer questions about a certain *population* but only have access to a *sample*.\n",
    "\n",
    "<img src=\"Figures/Poblacion1.svg\" alt=\"Drawing\" style=\"width: 450px;\"/>\n",
    "\n",
    "* The **population** refers to all individuals who are relevant to a particular question or study, whereas a **sample** will be just a subset of these. \n",
    "* For example, all the customers of a distribution company will be the population, whereas for a study we may only use a sample of them. Sometimes what for one question is a *population*, for another will be a sample (in our example all the customers of a distribution company are just a sample of the population of a country).\n",
    "\n",
    "<img src=\"Figures/Poblacion2.svg\" alt=\"Drawing\" style=\"width: 450px;\"/>\n",
    "\n",
    "Populations and samples are made up of several observations, individuals, elements, etc.\n",
    "\n",
    "<img src=\"Figures/Poblacion3.svg\" alt=\"Drawing\" style=\"width: 450px;\"/>\n",
    "\n",
    "Whenever possible, it will be better to use the population to answer our questions, but sometimes this is not possible (you do not have all the data, not all customers have a Smart meter, collecting all the data from the same source is difficult, etc.). In these cases we will use a sample. \n",
    "\n",
    "What is the problem with this? Let's see an example, with our London dataset"
   ]
  },
  {
   "cell_type": "code",
   "execution_count": 2,
   "metadata": {},
   "outputs": [
    {
     "data": {
      "text/html": [
       "<div>\n",
       "<style scoped>\n",
       "    .dataframe tbody tr th:only-of-type {\n",
       "        vertical-align: middle;\n",
       "    }\n",
       "\n",
       "    .dataframe tbody tr th {\n",
       "        vertical-align: top;\n",
       "    }\n",
       "\n",
       "    .dataframe thead th {\n",
       "        text-align: right;\n",
       "    }\n",
       "</style>\n",
       "<table border=\"1\" class=\"dataframe\">\n",
       "  <thead>\n",
       "    <tr style=\"text-align: right;\">\n",
       "      <th></th>\n",
       "      <th>LCLid</th>\n",
       "      <th>day</th>\n",
       "      <th>energy_median</th>\n",
       "      <th>energy_mean</th>\n",
       "      <th>energy_max</th>\n",
       "      <th>energy_count</th>\n",
       "      <th>energy_std</th>\n",
       "      <th>energy_sum</th>\n",
       "      <th>energy_min</th>\n",
       "    </tr>\n",
       "  </thead>\n",
       "  <tbody>\n",
       "    <tr>\n",
       "      <th>0</th>\n",
       "      <td>MAC000113</td>\n",
       "      <td>2011-12-14</td>\n",
       "      <td>1.0910</td>\n",
       "      <td>1.065250</td>\n",
       "      <td>1.674</td>\n",
       "      <td>28</td>\n",
       "      <td>0.305397</td>\n",
       "      <td>29.827</td>\n",
       "      <td>0.262</td>\n",
       "    </tr>\n",
       "    <tr>\n",
       "      <th>1</th>\n",
       "      <td>MAC000113</td>\n",
       "      <td>2011-12-15</td>\n",
       "      <td>0.3710</td>\n",
       "      <td>0.546521</td>\n",
       "      <td>1.434</td>\n",
       "      <td>48</td>\n",
       "      <td>0.410120</td>\n",
       "      <td>26.233</td>\n",
       "      <td>0.119</td>\n",
       "    </tr>\n",
       "    <tr>\n",
       "      <th>2</th>\n",
       "      <td>MAC000113</td>\n",
       "      <td>2011-12-16</td>\n",
       "      <td>0.3205</td>\n",
       "      <td>0.534708</td>\n",
       "      <td>2.034</td>\n",
       "      <td>48</td>\n",
       "      <td>0.464431</td>\n",
       "      <td>25.666</td>\n",
       "      <td>0.129</td>\n",
       "    </tr>\n",
       "    <tr>\n",
       "      <th>3</th>\n",
       "      <td>MAC000113</td>\n",
       "      <td>2011-12-17</td>\n",
       "      <td>0.2570</td>\n",
       "      <td>0.421500</td>\n",
       "      <td>1.068</td>\n",
       "      <td>48</td>\n",
       "      <td>0.274387</td>\n",
       "      <td>20.232</td>\n",
       "      <td>0.115</td>\n",
       "    </tr>\n",
       "    <tr>\n",
       "      <th>4</th>\n",
       "      <td>MAC000113</td>\n",
       "      <td>2011-12-18</td>\n",
       "      <td>0.3985</td>\n",
       "      <td>0.565333</td>\n",
       "      <td>2.218</td>\n",
       "      <td>48</td>\n",
       "      <td>0.450712</td>\n",
       "      <td>27.136</td>\n",
       "      <td>0.134</td>\n",
       "    </tr>\n",
       "    <tr>\n",
       "      <th>5</th>\n",
       "      <td>MAC000113</td>\n",
       "      <td>2011-12-19</td>\n",
       "      <td>0.6980</td>\n",
       "      <td>0.746479</td>\n",
       "      <td>2.204</td>\n",
       "      <td>48</td>\n",
       "      <td>0.488694</td>\n",
       "      <td>35.831</td>\n",
       "      <td>0.131</td>\n",
       "    </tr>\n",
       "    <tr>\n",
       "      <th>6</th>\n",
       "      <td>MAC000113</td>\n",
       "      <td>2011-12-20</td>\n",
       "      <td>0.2485</td>\n",
       "      <td>0.436354</td>\n",
       "      <td>1.551</td>\n",
       "      <td>48</td>\n",
       "      <td>0.362781</td>\n",
       "      <td>20.945</td>\n",
       "      <td>0.139</td>\n",
       "    </tr>\n",
       "    <tr>\n",
       "      <th>7</th>\n",
       "      <td>MAC000113</td>\n",
       "      <td>2011-12-21</td>\n",
       "      <td>0.2050</td>\n",
       "      <td>0.426542</td>\n",
       "      <td>1.818</td>\n",
       "      <td>48</td>\n",
       "      <td>0.477511</td>\n",
       "      <td>20.474</td>\n",
       "      <td>0.119</td>\n",
       "    </tr>\n",
       "    <tr>\n",
       "      <th>8</th>\n",
       "      <td>MAC000113</td>\n",
       "      <td>2011-12-22</td>\n",
       "      <td>0.1830</td>\n",
       "      <td>0.181854</td>\n",
       "      <td>0.259</td>\n",
       "      <td>48</td>\n",
       "      <td>0.040321</td>\n",
       "      <td>8.729</td>\n",
       "      <td>0.119</td>\n",
       "    </tr>\n",
       "    <tr>\n",
       "      <th>9</th>\n",
       "      <td>MAC000113</td>\n",
       "      <td>2011-12-23</td>\n",
       "      <td>0.1860</td>\n",
       "      <td>0.185646</td>\n",
       "      <td>0.268</td>\n",
       "      <td>48</td>\n",
       "      <td>0.040754</td>\n",
       "      <td>8.911</td>\n",
       "      <td>0.121</td>\n",
       "    </tr>\n",
       "  </tbody>\n",
       "</table>\n",
       "</div>"
      ],
      "text/plain": [
       "       LCLid         day  energy_median  energy_mean  energy_max  \\\n",
       "0  MAC000113  2011-12-14         1.0910     1.065250       1.674   \n",
       "1  MAC000113  2011-12-15         0.3710     0.546521       1.434   \n",
       "2  MAC000113  2011-12-16         0.3205     0.534708       2.034   \n",
       "3  MAC000113  2011-12-17         0.2570     0.421500       1.068   \n",
       "4  MAC000113  2011-12-18         0.3985     0.565333       2.218   \n",
       "5  MAC000113  2011-12-19         0.6980     0.746479       2.204   \n",
       "6  MAC000113  2011-12-20         0.2485     0.436354       1.551   \n",
       "7  MAC000113  2011-12-21         0.2050     0.426542       1.818   \n",
       "8  MAC000113  2011-12-22         0.1830     0.181854       0.259   \n",
       "9  MAC000113  2011-12-23         0.1860     0.185646       0.268   \n",
       "\n",
       "   energy_count  energy_std  energy_sum  energy_min  \n",
       "0            28    0.305397      29.827       0.262  \n",
       "1            48    0.410120      26.233       0.119  \n",
       "2            48    0.464431      25.666       0.129  \n",
       "3            48    0.274387      20.232       0.115  \n",
       "4            48    0.450712      27.136       0.134  \n",
       "5            48    0.488694      35.831       0.131  \n",
       "6            48    0.362781      20.945       0.139  \n",
       "7            48    0.477511      20.474       0.119  \n",
       "8            48    0.040321       8.729       0.119  \n",
       "9            48    0.040754       8.911       0.121  "
      ]
     },
     "execution_count": 2,
     "metadata": {},
     "output_type": "execute_result"
    }
   ],
   "source": [
    "import pandas as pd # Pandas!\n",
    "import warnings\n",
    "warnings.simplefilter(action='ignore', category=FutureWarning)\n",
    "\n",
    "\n",
    "london = pd.read_csv('Data/block_13_diario.csv')\n",
    "london.head(10)"
   ]
  },
  {
   "cell_type": "code",
   "execution_count": 3,
   "metadata": {},
   "outputs": [
    {
     "data": {
      "text/html": [
       "<div>\n",
       "<style scoped>\n",
       "    .dataframe tbody tr th:only-of-type {\n",
       "        vertical-align: middle;\n",
       "    }\n",
       "\n",
       "    .dataframe tbody tr th {\n",
       "        vertical-align: top;\n",
       "    }\n",
       "\n",
       "    .dataframe thead th {\n",
       "        text-align: right;\n",
       "    }\n",
       "</style>\n",
       "<table border=\"1\" class=\"dataframe\">\n",
       "  <thead>\n",
       "    <tr style=\"text-align: right;\">\n",
       "      <th></th>\n",
       "      <th>energy_median</th>\n",
       "      <th>energy_mean</th>\n",
       "      <th>energy_max</th>\n",
       "      <th>energy_count</th>\n",
       "      <th>energy_std</th>\n",
       "      <th>energy_sum</th>\n",
       "      <th>energy_min</th>\n",
       "    </tr>\n",
       "  </thead>\n",
       "  <tbody>\n",
       "    <tr>\n",
       "      <th>count</th>\n",
       "      <td>32992.000000</td>\n",
       "      <td>32992.000000</td>\n",
       "      <td>32992.000000</td>\n",
       "      <td>32992.000000</td>\n",
       "      <td>32865.000000</td>\n",
       "      <td>32992.000000</td>\n",
       "      <td>32992.000000</td>\n",
       "    </tr>\n",
       "    <tr>\n",
       "      <th>mean</th>\n",
       "      <td>0.165632</td>\n",
       "      <td>0.223007</td>\n",
       "      <td>0.879596</td>\n",
       "      <td>47.776128</td>\n",
       "      <td>0.182819</td>\n",
       "      <td>10.660024</td>\n",
       "      <td>0.064419</td>\n",
       "    </tr>\n",
       "    <tr>\n",
       "      <th>std</th>\n",
       "      <td>0.158396</td>\n",
       "      <td>0.178484</td>\n",
       "      <td>0.672407</td>\n",
       "      <td>3.035524</td>\n",
       "      <td>0.147394</td>\n",
       "      <td>8.565058</td>\n",
       "      <td>0.076632</td>\n",
       "    </tr>\n",
       "    <tr>\n",
       "      <th>min</th>\n",
       "      <td>0.000000</td>\n",
       "      <td>0.000000</td>\n",
       "      <td>0.000000</td>\n",
       "      <td>1.000000</td>\n",
       "      <td>0.000000</td>\n",
       "      <td>0.000000</td>\n",
       "      <td>0.000000</td>\n",
       "    </tr>\n",
       "    <tr>\n",
       "      <th>25%</th>\n",
       "      <td>0.052000</td>\n",
       "      <td>0.085432</td>\n",
       "      <td>0.348000</td>\n",
       "      <td>48.000000</td>\n",
       "      <td>0.069162</td>\n",
       "      <td>4.046000</td>\n",
       "      <td>0.016000</td>\n",
       "    </tr>\n",
       "    <tr>\n",
       "      <th>50%</th>\n",
       "      <td>0.118500</td>\n",
       "      <td>0.176844</td>\n",
       "      <td>0.775000</td>\n",
       "      <td>48.000000</td>\n",
       "      <td>0.149607</td>\n",
       "      <td>8.458000</td>\n",
       "      <td>0.035000</td>\n",
       "    </tr>\n",
       "    <tr>\n",
       "      <th>75%</th>\n",
       "      <td>0.225000</td>\n",
       "      <td>0.311276</td>\n",
       "      <td>1.248000</td>\n",
       "      <td>48.000000</td>\n",
       "      <td>0.264400</td>\n",
       "      <td>14.910500</td>\n",
       "      <td>0.093000</td>\n",
       "    </tr>\n",
       "    <tr>\n",
       "      <th>max</th>\n",
       "      <td>1.608000</td>\n",
       "      <td>1.407458</td>\n",
       "      <td>6.897000</td>\n",
       "      <td>48.000000</td>\n",
       "      <td>1.104101</td>\n",
       "      <td>67.558000</td>\n",
       "      <td>1.068000</td>\n",
       "    </tr>\n",
       "  </tbody>\n",
       "</table>\n",
       "</div>"
      ],
      "text/plain": [
       "       energy_median   energy_mean    energy_max  energy_count    energy_std  \\\n",
       "count   32992.000000  32992.000000  32992.000000  32992.000000  32865.000000   \n",
       "mean        0.165632      0.223007      0.879596     47.776128      0.182819   \n",
       "std         0.158396      0.178484      0.672407      3.035524      0.147394   \n",
       "min         0.000000      0.000000      0.000000      1.000000      0.000000   \n",
       "25%         0.052000      0.085432      0.348000     48.000000      0.069162   \n",
       "50%         0.118500      0.176844      0.775000     48.000000      0.149607   \n",
       "75%         0.225000      0.311276      1.248000     48.000000      0.264400   \n",
       "max         1.608000      1.407458      6.897000     48.000000      1.104101   \n",
       "\n",
       "         energy_sum    energy_min  \n",
       "count  32992.000000  32992.000000  \n",
       "mean      10.660024      0.064419  \n",
       "std        8.565058      0.076632  \n",
       "min        0.000000      0.000000  \n",
       "25%        4.046000      0.016000  \n",
       "50%        8.458000      0.035000  \n",
       "75%       14.910500      0.093000  \n",
       "max       67.558000      1.068000  "
      ]
     },
     "execution_count": 3,
     "metadata": {},
     "output_type": "execute_result"
    }
   ],
   "source": [
    "london.describe()"
   ]
  },
  {
   "cell_type": "markdown",
   "metadata": {},
   "source": [
    "Let's create two different samples"
   ]
  },
  {
   "cell_type": "code",
   "execution_count": 4,
   "metadata": {},
   "outputs": [],
   "source": [
    "sample1 = london.iloc[1:50,4]\n",
    "sample2 = london.iloc[1345:1854,4]"
   ]
  },
  {
   "cell_type": "code",
   "execution_count": 5,
   "metadata": {},
   "outputs": [
    {
     "data": {
      "text/plain": [
       "count    49.000000\n",
       "mean      1.456020\n",
       "std       0.632673\n",
       "min       0.259000\n",
       "25%       1.128000\n",
       "50%       1.570000\n",
       "75%       1.922000\n",
       "max       2.653000\n",
       "Name: energy_max, dtype: float64"
      ]
     },
     "execution_count": 5,
     "metadata": {},
     "output_type": "execute_result"
    }
   ],
   "source": [
    "sample1.describe()"
   ]
  },
  {
   "cell_type": "code",
   "execution_count": 6,
   "metadata": {},
   "outputs": [
    {
     "data": {
      "text/plain": [
       "count    509.000000\n",
       "mean       1.630165\n",
       "std        0.732034\n",
       "min        0.066000\n",
       "25%        1.013000\n",
       "50%        1.676000\n",
       "75%        2.115000\n",
       "max        4.041000\n",
       "Name: energy_max, dtype: float64"
      ]
     },
     "execution_count": 6,
     "metadata": {},
     "output_type": "execute_result"
    }
   ],
   "source": [
    "sample2.describe()"
   ]
  },
  {
   "cell_type": "markdown",
   "metadata": {},
   "source": [
    "As can be seen, for each sample we obtain different metrics or statistics. This error is the *estimation error* or the *sampling error*. \n",
    "\n",
    "\n"
   ]
  },
  {
   "cell_type": "markdown",
   "metadata": {},
   "source": [
    "**Population mean (µ)**"
   ]
  },
  {
   "cell_type": "code",
   "execution_count": 7,
   "metadata": {},
   "outputs": [
    {
     "name": "stdout",
     "output_type": "stream",
     "text": [
      "Mean population: 0.8795961444229009\n"
     ]
    }
   ],
   "source": [
    "mean_population = london['energy_max'].mean()\n",
    "print('Mean population:',mean_population)"
   ]
  },
  {
   "cell_type": "markdown",
   "metadata": {},
   "source": [
    "**Samples mean (x̅)**"
   ]
  },
  {
   "cell_type": "code",
   "execution_count": 8,
   "metadata": {},
   "outputs": [
    {
     "name": "stdout",
     "output_type": "stream",
     "text": [
      "Mean sample 1: 1.4560204081632653\n",
      "Mean sample 2: 1.6301650255402746\n"
     ]
    }
   ],
   "source": [
    "mean_sample1 = sample1.mean()\n",
    "mean_sample2 = sample2.mean()\n",
    "\n",
    "print('Mean sample 1:', mean_sample1)\n",
    "print('Mean sample 2:', mean_sample2)"
   ]
  },
  {
   "cell_type": "markdown",
   "metadata": {},
   "source": [
    "**Samples error**"
   ]
  },
  {
   "cell_type": "code",
   "execution_count": 9,
   "metadata": {},
   "outputs": [
    {
     "name": "stdout",
     "output_type": "stream",
     "text": [
      "Sample 1 error: -0.5764242637403644\n",
      "Sample 2 error: -0.7505688811173737\n"
     ]
    }
   ],
   "source": [
    "error1 = mean_population - mean_sample1\n",
    "error2 = mean_population - mean_sample2\n",
    "\n",
    "print('Sample 1 error:',error1)\n",
    "print('Sample 2 error:',error2)"
   ]
  },
  {
   "cell_type": "markdown",
   "metadata": {},
   "source": [
    "If we do it for several samples, with the same number of observations in a random way, automatically:\n",
    "\n",
    "\n",
    "`dataframe.sample()` method returns a random sample of items from an axis of object."
   ]
  },
  {
   "cell_type": "code",
   "execution_count": 10,
   "metadata": {},
   "outputs": [
    {
     "data": {
      "image/png": "[encoded data removed]",
      "text/plain": [
       "<Figure size 432x288 with 1 Axes>"
      ]
     },
     "metadata": {
      "needs_background": "light"
     },
     "output_type": "display_data"
    }
   ],
   "source": [
    "import matplotlib.pyplot as plt\n",
    "\n",
    "num_obs = 20\n",
    "num_samples = 100\n",
    "list_mean=[]\n",
    "\n",
    "for sample in range(num_samples):\n",
    "    s = london['energy_max'].sample(num_obs, random_state=sample)\n",
    "    list_mean.append(s.mean())\n",
    "    \n",
    "plt.scatter(range(1,101),list_mean, label= 'Samples mean')\n",
    "plt.axhline(london['energy_max'].mean(), color='green', label = 'Population mean')\n",
    "\n",
    "# Set fixed y-axis limits (change values as per your requirement)\n",
    "plt.ylim(ymin=0.2, ymax=1.6)\n",
    "plt.xlabel('# Sample')\n",
    "plt.ylabel('Mean')\n",
    "plt.legend()\n",
    "plt.show()"
   ]
  },
  {
   "cell_type": "markdown",
   "metadata": {},
   "source": [
    "### How can we solve this? \n",
    "\n",
    "One way is, as mentioned, to try to get as close as possible to the entire population. Let's look at our example:"
   ]
  },
  {
   "cell_type": "code",
   "execution_count": 11,
   "metadata": {},
   "outputs": [
    {
     "data": {
      "image/png": "[encoded data removed]",
      "text/plain": [
       "<Figure size 1080x576 with 4 Axes>"
      ]
     },
     "metadata": {
      "needs_background": "light"
     },
     "output_type": "display_data"
    }
   ],
   "source": [
    "num_obs = 50\n",
    "num_samples = 100\n",
    "lists_mean=[]\n",
    "\n",
    "for num_obs in [50,250,500,1000]:\n",
    "    list_mean=[]\n",
    "    for sample in range(num_samples):\n",
    "        s = london['energy_max'].sample(num_obs, random_state = sample)\n",
    "        list_mean.append(s.mean())\n",
    "    lists_mean.append(list_mean)\n",
    "    \n",
    "plt.figure(figsize=(15,8))\n",
    "\n",
    "plt.subplot(2,2,1)\n",
    "plt.scatter(range(1,101),lists_mean[0])\n",
    "plt.axhline(london['energy_max'].mean(), color='green')\n",
    "plt.ylim(0.6, 1.1)\n",
    "plt.ylabel('Mean')\n",
    "plt.title('50 samples')\n",
    "\n",
    "plt.subplot(2,2,2)\n",
    "plt.scatter(range(1,101),lists_mean[1])\n",
    "plt.axhline(london['energy_max'].mean(), color='green')\n",
    "plt.ylim(0.6, 1.1)\n",
    "plt.ylabel('Mean')\n",
    "plt.title('250 samples')\n",
    "\n",
    "plt.subplot(2,2,3)\n",
    "plt.scatter(range(1,101),lists_mean[2])\n",
    "plt.axhline(london['energy_max'].mean(), color='green')\n",
    "plt.ylim(0.6, 1.1)\n",
    "plt.ylabel('Mean')\n",
    "plt.title('500 samples')\n",
    "\n",
    "plt.subplot(2,2,4)\n",
    "plt.scatter(range(1,101),lists_mean[3])\n",
    "plt.axhline(london['energy_max'].mean(), color='green')\n",
    "plt.ylim(0.6, 1.1)\n",
    "plt.ylabel('Mean')\n",
    "plt.title('1000 samples')\n",
    "\n",
    "\n",
    "# plt.subplot(2,2,4)\n",
    "# plt.scatter(range(1,101),lists_mean[4], alpha=0.4)\n",
    "# plt.axhline(london['energy_max'].mean(), color='green')\n",
    "# plt.ylim(0.6, 1.1)\n",
    "# plt.ylabel('Mean')\n",
    "# plt.title('1800 samples')\n",
    "\n",
    "plt.show()"
   ]
  },
  {
   "cell_type": "markdown",
   "metadata": {},
   "source": [
    "We must also ensure that the sample is representative of the different possible categories in our dataset. For that you can use **stratified sampling**.\n",
    "\n",
    "<img src=\"Figures/stratified_sampling.jpg\" alt=\"Drawing\" style=\"width: 450px;\"/>"
   ]
  },
  {
   "cell_type": "markdown",
   "metadata": {},
   "source": [
    "## 2. Data summary and data cleaning\n",
    "\n",
    "Pandas offers us several options to obtain a summary of the data as the *describe* method seen above. In addition, we can use other methods such as:\n",
    "\n",
    "<img src=\"Figures/pandas_summary.png\" alt=\"Drawing\" style=\"width: 450px;\"/>\n",
    "\n",
    "Other interesting options to obtain frequency distributions of the data in a column are the methods *value_counts* and *nunique*."
   ]
  },
  {
   "cell_type": "code",
   "execution_count": 12,
   "metadata": {},
   "outputs": [
    {
     "data": {
      "text/plain": [
       "6.896999799999999"
      ]
     },
     "execution_count": 12,
     "metadata": {},
     "output_type": "execute_result"
    }
   ],
   "source": [
    "### Try some of these functions\n",
    "\n",
    "london['energy_max'].sum()\n",
    "london['energy_max'].max()"
   ]
  },
  {
   "cell_type": "markdown",
   "metadata": {},
   "source": [
    "<div style=\"background-color:#ccffcc; padding:10px; border-radius:5px;\">\n",
    "\n",
    "### <span style=\"color:blue\">Exercise 1</span>\n",
    "\n",
    "Calculate standard deviation for MAC000113\n",
    "    </div>"
   ]
  },
  {
   "cell_type": "code",
   "execution_count": 15,
   "metadata": {},
   "outputs": [
    {
     "data": {
      "text/plain": [
       "0.5588160014383909"
      ]
     },
     "execution_count": 15,
     "metadata": {},
     "output_type": "execute_result"
    }
   ],
   "source": [
    "# write your code here\n",
    "london.loc[london['LCLid']=='MAC000113']['energy_max'].std()\n"
   ]
  },
  {
   "cell_type": "markdown",
   "metadata": {},
   "source": [
    "### Data cleaning: treat the missing data"
   ]
  },
  {
   "cell_type": "markdown",
   "metadata": {},
   "source": [
    "There are several options for dealing with empty values, but pandas offers us some quick and interesting options to go fast\n",
    "\n",
    "<img src=\"Figures/missing.png\" alt=\"Drawing\" style=\"width: 450px;\"/>\n",
    "\n",
    "One tool that goes well for summarizing is the *pandas-profiling* library which summarizes the data in a *dataframe* and shows us interesting summarized and grouped results.\n"
   ]
  },
  {
   "cell_type": "markdown",
   "metadata": {},
   "source": [
    "<div style=\"background-color:#ccffcc; padding:10px; border-radius:5px;\">\n",
    "\n",
    "### <span style=\"color:blue\">Exercise 2</span>\n",
    "\n",
    "How many missing data the london dataset have?\n",
    "    </div>"
   ]
  },
  {
   "cell_type": "code",
   "execution_count": 17,
   "metadata": {},
   "outputs": [
    {
     "data": {
      "text/plain": [
       "LCLid              0\n",
       "day                0\n",
       "energy_median      0\n",
       "energy_mean        0\n",
       "energy_max         0\n",
       "energy_count       0\n",
       "energy_std       127\n",
       "energy_sum         0\n",
       "energy_min         0\n",
       "dtype: int64"
      ]
     },
     "execution_count": 17,
     "metadata": {},
     "output_type": "execute_result"
    }
   ],
   "source": [
    "# write your code here\n",
    "\n",
    "\n",
    "london.isna().sum()\n"
   ]
  },
  {
   "cell_type": "markdown",
   "metadata": {},
   "source": [
    "<div style=\"background-color:#ccffcc; padding:10px; border-radius:5px;\">\n",
    "\n",
    "### <span style=\"color:blue\">Exercise 3</span>\n",
    "Which method would you use? dropna() or .fillna()\n",
    "    </div>"
   ]
  },
  {
   "cell_type": "code",
   "execution_count": 18,
   "metadata": {},
   "outputs": [],
   "source": [
    "# write your code here\n",
    "\n",
    "\n",
    "london.dropna(inplace=True)\n"
   ]
  },
  {
   "cell_type": "code",
   "execution_count": 19,
   "metadata": {},
   "outputs": [
    {
     "data": {
      "text/plain": [
       "LCLid            0\n",
       "day              0\n",
       "energy_median    0\n",
       "energy_mean      0\n",
       "energy_max       0\n",
       "energy_count     0\n",
       "energy_std       0\n",
       "energy_sum       0\n",
       "energy_min       0\n",
       "dtype: int64"
      ]
     },
     "execution_count": 19,
     "metadata": {},
     "output_type": "execute_result"
    }
   ],
   "source": [
    "# how many missing data do we have now?\n",
    "\n",
    "london.isna().sum()\n"
   ]
  },
  {
   "cell_type": "markdown",
   "metadata": {},
   "source": [
    "# 3. Descriptive Statistics and visualization"
   ]
  },
  {
   "cell_type": "markdown",
   "metadata": {},
   "source": [
    "## 3.1 Frequency Distribution\n",
    "\n",
    "A data set is made up of a distribution of values. This is valuable information to understand the dataset we are working with.\n",
    "\n",
    "\n",
    "Several plot tools help visualize the distribution of our values. We are going to focus in the following two:\n",
    "\n",
    "* Histogram\n",
    "* Density Plots"
   ]
  },
  {
   "cell_type": "code",
   "execution_count": 20,
   "metadata": {},
   "outputs": [
    {
     "data": {
      "text/html": [
       "<div>\n",
       "<style scoped>\n",
       "    .dataframe tbody tr th:only-of-type {\n",
       "        vertical-align: middle;\n",
       "    }\n",
       "\n",
       "    .dataframe tbody tr th {\n",
       "        vertical-align: top;\n",
       "    }\n",
       "\n",
       "    .dataframe thead th {\n",
       "        text-align: right;\n",
       "    }\n",
       "</style>\n",
       "<table border=\"1\" class=\"dataframe\">\n",
       "  <thead>\n",
       "    <tr style=\"text-align: right;\">\n",
       "      <th></th>\n",
       "      <th>LCLid</th>\n",
       "      <th>day</th>\n",
       "      <th>energy_median</th>\n",
       "      <th>energy_mean</th>\n",
       "      <th>energy_max</th>\n",
       "      <th>energy_count</th>\n",
       "      <th>energy_std</th>\n",
       "      <th>energy_sum</th>\n",
       "      <th>energy_min</th>\n",
       "    </tr>\n",
       "  </thead>\n",
       "  <tbody>\n",
       "    <tr>\n",
       "      <th>0</th>\n",
       "      <td>MAC000113</td>\n",
       "      <td>2011-12-14</td>\n",
       "      <td>1.0910</td>\n",
       "      <td>1.065250</td>\n",
       "      <td>1.674</td>\n",
       "      <td>28</td>\n",
       "      <td>0.305397</td>\n",
       "      <td>29.827</td>\n",
       "      <td>0.262</td>\n",
       "    </tr>\n",
       "    <tr>\n",
       "      <th>1</th>\n",
       "      <td>MAC000113</td>\n",
       "      <td>2011-12-15</td>\n",
       "      <td>0.3710</td>\n",
       "      <td>0.546521</td>\n",
       "      <td>1.434</td>\n",
       "      <td>48</td>\n",
       "      <td>0.410120</td>\n",
       "      <td>26.233</td>\n",
       "      <td>0.119</td>\n",
       "    </tr>\n",
       "    <tr>\n",
       "      <th>2</th>\n",
       "      <td>MAC000113</td>\n",
       "      <td>2011-12-16</td>\n",
       "      <td>0.3205</td>\n",
       "      <td>0.534708</td>\n",
       "      <td>2.034</td>\n",
       "      <td>48</td>\n",
       "      <td>0.464431</td>\n",
       "      <td>25.666</td>\n",
       "      <td>0.129</td>\n",
       "    </tr>\n",
       "    <tr>\n",
       "      <th>3</th>\n",
       "      <td>MAC000113</td>\n",
       "      <td>2011-12-17</td>\n",
       "      <td>0.2570</td>\n",
       "      <td>0.421500</td>\n",
       "      <td>1.068</td>\n",
       "      <td>48</td>\n",
       "      <td>0.274387</td>\n",
       "      <td>20.232</td>\n",
       "      <td>0.115</td>\n",
       "    </tr>\n",
       "    <tr>\n",
       "      <th>4</th>\n",
       "      <td>MAC000113</td>\n",
       "      <td>2011-12-18</td>\n",
       "      <td>0.3985</td>\n",
       "      <td>0.565333</td>\n",
       "      <td>2.218</td>\n",
       "      <td>48</td>\n",
       "      <td>0.450712</td>\n",
       "      <td>27.136</td>\n",
       "      <td>0.134</td>\n",
       "    </tr>\n",
       "  </tbody>\n",
       "</table>\n",
       "</div>"
      ],
      "text/plain": [
       "       LCLid         day  energy_median  energy_mean  energy_max  \\\n",
       "0  MAC000113  2011-12-14         1.0910     1.065250       1.674   \n",
       "1  MAC000113  2011-12-15         0.3710     0.546521       1.434   \n",
       "2  MAC000113  2011-12-16         0.3205     0.534708       2.034   \n",
       "3  MAC000113  2011-12-17         0.2570     0.421500       1.068   \n",
       "4  MAC000113  2011-12-18         0.3985     0.565333       2.218   \n",
       "\n",
       "   energy_count  energy_std  energy_sum  energy_min  \n",
       "0            28    0.305397      29.827       0.262  \n",
       "1            48    0.410120      26.233       0.119  \n",
       "2            48    0.464431      25.666       0.129  \n",
       "3            48    0.274387      20.232       0.115  \n",
       "4            48    0.450712      27.136       0.134  "
      ]
     },
     "execution_count": 20,
     "metadata": {},
     "output_type": "execute_result"
    }
   ],
   "source": [
    "london.head()"
   ]
  },
  {
   "cell_type": "code",
   "execution_count": 24,
   "metadata": {},
   "outputs": [
    {
     "data": {
      "text/plain": [
       "<AxesSubplot:xlabel='energy_mean', ylabel='Count'>"
      ]
     },
     "execution_count": 24,
     "metadata": {},
     "output_type": "execute_result"
    },
    {
     "data": {
      "image/png": "[encoded data removed]",
      "text/plain": [
       "<Figure size 864x576 with 1 Axes>"
      ]
     },
     "metadata": {
      "needs_background": "light"
     },
     "output_type": "display_data"
    }
   ],
   "source": [
    "### Let's make a histogram\n",
    "import seaborn as sns\n",
    "from matplotlib import colors as mcolors\n",
    "\n",
    "colors = dict(mcolors.BASE_COLORS, **mcolors.CSS4_COLORS)\n",
    "colors_names = [name for name, color in colors.items()]\n",
    "\n",
    "# print(colors_names)\n",
    "\n",
    "plt.figure(figsize=(12,8))\n",
    "sns.histplot(data=london, x = \"energy_mean\", bins=20, element=\"bars\")"
   ]
  },
  {
   "cell_type": "code",
   "execution_count": 22,
   "metadata": {},
   "outputs": [
    {
     "data": {
      "text/plain": [
       "array(['MAC000113', 'MAC000301', 'MAC000309', 'MAC002509', 'MAC002510',\n",
       "       'MAC002512', 'MAC002513', 'MAC002514', 'MAC002517', 'MAC002518',\n",
       "       'MAC002519', 'MAC002522', 'MAC002525', 'MAC002530', 'MAC002539',\n",
       "       'MAC002557', 'MAC002558', 'MAC002605', 'MAC002662', 'MAC002663',\n",
       "       'MAC002666', 'MAC002676', 'MAC002702', 'MAC002750', 'MAC002754',\n",
       "       'MAC002756', 'MAC002757', 'MAC002761', 'MAC002764', 'MAC002767',\n",
       "       'MAC005269', 'MAC005270', 'MAC005274', 'MAC005313', 'MAC005317',\n",
       "       'MAC005319', 'MAC005322', 'MAC005331', 'MAC005367', 'MAC005392',\n",
       "       'MAC005400', 'MAC005403', 'MAC005404', 'MAC005405', 'MAC005407',\n",
       "       'MAC005408', 'MAC005411', 'MAC005412', 'MAC005415', 'MAC005416'],\n",
       "      dtype=object)"
      ]
     },
     "execution_count": 22,
     "metadata": {},
     "output_type": "execute_result"
    }
   ],
   "source": [
    "SMs = london['LCLid'].unique()\n",
    "SMs"
   ]
  },
  {
   "cell_type": "code",
   "execution_count": 25,
   "metadata": {},
   "outputs": [
    {
     "data": {
      "image/png": "[encoded data removed]",
      "text/plain": [
       "<Figure size 864x576 with 1 Axes>"
      ]
     },
     "metadata": {
      "needs_background": "light"
     },
     "output_type": "display_data"
    }
   ],
   "source": [
    "\n",
    "plt.figure(figsize=(12,8))\n",
    "\n",
    "\n",
    "for i, SM in enumerate(SMs[:4]):\n",
    "    sns.histplot(data = london[london['LCLid']== SM], x = \"energy_max\", kde=True, label= SM, color=colors_names[i], bins = 50, alpha=0.2)\n",
    "    plt.legend( loc='best', bbox_to_anchor=((1,1)))"
   ]
  },
  {
   "cell_type": "markdown",
   "metadata": {},
   "source": [
    "### Let's make a density plot"
   ]
  },
  {
   "cell_type": "code",
   "execution_count": 26,
   "metadata": {},
   "outputs": [
    {
     "data": {
      "image/png": "[encoded data removed]",
      "text/plain": [
       "<Figure size 360x360 with 1 Axes>"
      ]
     },
     "metadata": {
      "needs_background": "light"
     },
     "output_type": "display_data"
    }
   ],
   "source": [
    "sns.displot(london.loc[london['LCLid']=='MAC000113']['energy_max'], kde=True)\n",
    "plt.show()\n"
   ]
  },
  {
   "cell_type": "markdown",
   "metadata": {},
   "source": [
    "https://seaborn.pydata.org/generated/seaborn.displot.html"
   ]
  },
  {
   "cell_type": "code",
   "execution_count": 27,
   "metadata": {},
   "outputs": [
    {
     "data": {
      "image/png": "[encoded data removed]",
      "text/plain": [
       "<Figure size 432x288 with 1 Axes>"
      ]
     },
     "metadata": {
      "needs_background": "light"
     },
     "output_type": "display_data"
    }
   ],
   "source": [
    "\n",
    "sns.kdeplot(london.loc[london['LCLid']=='MAC000113']['energy_max'])\n",
    "plt.show()"
   ]
  },
  {
   "cell_type": "markdown",
   "metadata": {},
   "source": [
    "<div style=\"background-color:#ccffcc; padding:10px; border-radius:5px;\">\n",
    "\n",
    "### <span style=\"color:blue\">Exercise 4</span>\n",
    "Plot in the same figure the density plot of the Energy_max for the last 5 end-users\n",
    "    </div>"
   ]
  },
  {
   "cell_type": "code",
   "execution_count": null,
   "metadata": {},
   "outputs": [],
   "source": [
    "# write your code here\n",
    "\n",
    "\n",
    "\n",
    "\n",
    "\n",
    "\n",
    "\n",
    "\n",
    "\n",
    "\n"
   ]
  },
  {
   "cell_type": "markdown",
   "metadata": {},
   "source": [
    "## 3.2 Measures of central tendency: Mean, median and mode\n",
    "\n",
    "Once we have a summary of the data used, some parameters that can be very useful to know how certain characteristics of our *dataset* are distributed are:\n",
    "* Mean\n",
    "* Median\n",
    "* Mode"
   ]
  },
  {
   "cell_type": "markdown",
   "metadata": {},
   "source": [
    "#### Mean\n",
    "\n",
    "We can think of the mean as the center of gravity of the data of a distribution. Let's look at an example and discuss what information can be obtained and how it can help us or, conversely, misinform us if we are not careful."
   ]
  },
  {
   "cell_type": "code",
   "execution_count": 28,
   "metadata": {},
   "outputs": [
    {
     "name": "stdout",
     "output_type": "stream",
     "text": [
      "Mean Population: 4.0\n",
      "Media Sample: 6.333333333333333\n",
      "[3, 3, 13]\n"
     ]
    }
   ],
   "source": [
    "import random\n",
    "import numpy as np\n",
    "\n",
    "population = [0,2,3,3,3,4,13]\n",
    "sample = random.choices(population, k=3)  #Randomly select 4 values from the population.\n",
    "\n",
    "mean_pop = np.mean(population)\n",
    "mean_samp = np.mean(sample)\n",
    "\n",
    "print('Mean Population:', mean_pop)\n",
    "print('Media Sample:', mean_samp)\n",
    "print(sample)"
   ]
  },
  {
   "cell_type": "markdown",
   "metadata": {},
   "source": [
    "Pandas provide accesibility to common calculations, such as:"
   ]
  },
  {
   "cell_type": "code",
   "execution_count": 29,
   "metadata": {},
   "outputs": [
    {
     "data": {
      "text/plain": [
       "0.8823041228297687"
      ]
     },
     "execution_count": 29,
     "metadata": {},
     "output_type": "execute_result"
    }
   ],
   "source": [
    "london['energy_max'].mean()"
   ]
  },
  {
   "cell_type": "markdown",
   "metadata": {},
   "source": [
    "#### Mean and Median\n",
    "\n",
    "*netherlands* Dataset. \n",
    "\n",
    "Source: https://www.kaggle.com/datasets/lucabasa/dutch-energy/data\n"
   ]
  },
  {
   "cell_type": "code",
   "execution_count": 30,
   "metadata": {},
   "outputs": [
    {
     "data": {
      "text/html": [
       "<div>\n",
       "<style scoped>\n",
       "    .dataframe tbody tr th:only-of-type {\n",
       "        vertical-align: middle;\n",
       "    }\n",
       "\n",
       "    .dataframe tbody tr th {\n",
       "        vertical-align: top;\n",
       "    }\n",
       "\n",
       "    .dataframe thead th {\n",
       "        text-align: right;\n",
       "    }\n",
       "</style>\n",
       "<table border=\"1\" class=\"dataframe\">\n",
       "  <thead>\n",
       "    <tr style=\"text-align: right;\">\n",
       "      <th></th>\n",
       "      <th>net_manager</th>\n",
       "      <th>purchase_area</th>\n",
       "      <th>street</th>\n",
       "      <th>zipcode_from</th>\n",
       "      <th>zipcode_to</th>\n",
       "      <th>city</th>\n",
       "      <th>num_connections</th>\n",
       "      <th>delivery_perc</th>\n",
       "      <th>perc_of_active_connections</th>\n",
       "      <th>type_conn_perc</th>\n",
       "      <th>type_of_connection</th>\n",
       "      <th>annual_consume</th>\n",
       "      <th>annual_consume_lowtarif_perc</th>\n",
       "      <th>smartmeter_perc</th>\n",
       "    </tr>\n",
       "  </thead>\n",
       "  <tbody>\n",
       "    <tr>\n",
       "      <th>0</th>\n",
       "      <td>Cogas Infra &amp; Beheer BV</td>\n",
       "      <td>Netbeheerder Centraal Overijssel B.V.</td>\n",
       "      <td>Dorpsstraat</td>\n",
       "      <td>7468CP</td>\n",
       "      <td>7471AA</td>\n",
       "      <td>ENTER</td>\n",
       "      <td>19</td>\n",
       "      <td>89.47</td>\n",
       "      <td>94.74</td>\n",
       "      <td>89</td>\n",
       "      <td>1x35</td>\n",
       "      <td>4037</td>\n",
       "      <td>89.47</td>\n",
       "      <td>0.0</td>\n",
       "    </tr>\n",
       "    <tr>\n",
       "      <th>1</th>\n",
       "      <td>Cogas Infra &amp; Beheer BV</td>\n",
       "      <td>Netbeheerder Centraal Overijssel B.V.</td>\n",
       "      <td>De Stoevelaar</td>\n",
       "      <td>7471AB</td>\n",
       "      <td>7471AB</td>\n",
       "      <td>GOOR</td>\n",
       "      <td>40</td>\n",
       "      <td>100.00</td>\n",
       "      <td>97.50</td>\n",
       "      <td>80</td>\n",
       "      <td>1x35</td>\n",
       "      <td>2642</td>\n",
       "      <td>95.00</td>\n",
       "      <td>0.0</td>\n",
       "    </tr>\n",
       "    <tr>\n",
       "      <th>2</th>\n",
       "      <td>Cogas Infra &amp; Beheer BV</td>\n",
       "      <td>Netbeheerder Centraal Overijssel B.V.</td>\n",
       "      <td>De Stoevelaar</td>\n",
       "      <td>7471AC</td>\n",
       "      <td>7471AC</td>\n",
       "      <td>GOOR</td>\n",
       "      <td>16</td>\n",
       "      <td>100.00</td>\n",
       "      <td>100.00</td>\n",
       "      <td>100</td>\n",
       "      <td>1x35</td>\n",
       "      <td>1313</td>\n",
       "      <td>100.00</td>\n",
       "      <td>0.0</td>\n",
       "    </tr>\n",
       "    <tr>\n",
       "      <th>3</th>\n",
       "      <td>Cogas Infra &amp; Beheer BV</td>\n",
       "      <td>Netbeheerder Centraal Overijssel B.V.</td>\n",
       "      <td>De Stoevelaar</td>\n",
       "      <td>7471AD</td>\n",
       "      <td>7471AE</td>\n",
       "      <td>GOOR</td>\n",
       "      <td>41</td>\n",
       "      <td>92.68</td>\n",
       "      <td>85.37</td>\n",
       "      <td>54</td>\n",
       "      <td>3x25</td>\n",
       "      <td>6405</td>\n",
       "      <td>92.68</td>\n",
       "      <td>0.0</td>\n",
       "    </tr>\n",
       "    <tr>\n",
       "      <th>4</th>\n",
       "      <td>Cogas Infra &amp; Beheer BV</td>\n",
       "      <td>Netbeheerder Centraal Overijssel B.V.</td>\n",
       "      <td>Kerkstraat</td>\n",
       "      <td>7471AG</td>\n",
       "      <td>7471AG</td>\n",
       "      <td>GOOR</td>\n",
       "      <td>14</td>\n",
       "      <td>85.71</td>\n",
       "      <td>100.00</td>\n",
       "      <td>36</td>\n",
       "      <td>3x25</td>\n",
       "      <td>4742</td>\n",
       "      <td>100.00</td>\n",
       "      <td>0.0</td>\n",
       "    </tr>\n",
       "  </tbody>\n",
       "</table>\n",
       "</div>"
      ],
      "text/plain": [
       "               net_manager                          purchase_area  \\\n",
       "0  Cogas Infra & Beheer BV  Netbeheerder Centraal Overijssel B.V.   \n",
       "1  Cogas Infra & Beheer BV  Netbeheerder Centraal Overijssel B.V.   \n",
       "2  Cogas Infra & Beheer BV  Netbeheerder Centraal Overijssel B.V.   \n",
       "3  Cogas Infra & Beheer BV  Netbeheerder Centraal Overijssel B.V.   \n",
       "4  Cogas Infra & Beheer BV  Netbeheerder Centraal Overijssel B.V.   \n",
       "\n",
       "          street zipcode_from zipcode_to   city  num_connections  \\\n",
       "0    Dorpsstraat       7468CP     7471AA  ENTER               19   \n",
       "1  De Stoevelaar       7471AB     7471AB   GOOR               40   \n",
       "2  De Stoevelaar       7471AC     7471AC   GOOR               16   \n",
       "3  De Stoevelaar       7471AD     7471AE   GOOR               41   \n",
       "4     Kerkstraat       7471AG     7471AG   GOOR               14   \n",
       "\n",
       "   delivery_perc  perc_of_active_connections  type_conn_perc  \\\n",
       "0          89.47                       94.74              89   \n",
       "1         100.00                       97.50              80   \n",
       "2         100.00                      100.00             100   \n",
       "3          92.68                       85.37              54   \n",
       "4          85.71                      100.00              36   \n",
       "\n",
       "  type_of_connection  annual_consume  annual_consume_lowtarif_perc  \\\n",
       "0               1x35            4037                         89.47   \n",
       "1               1x35            2642                         95.00   \n",
       "2               1x35            1313                        100.00   \n",
       "3               3x25            6405                         92.68   \n",
       "4               3x25            4742                        100.00   \n",
       "\n",
       "   smartmeter_perc  \n",
       "0              0.0  \n",
       "1              0.0  \n",
       "2              0.0  \n",
       "3              0.0  \n",
       "4              0.0  "
      ]
     },
     "execution_count": 30,
     "metadata": {},
     "output_type": "execute_result"
    }
   ],
   "source": [
    "import pandas as pd\n",
    "netherlands = pd.read_csv('Data/Electricity_Netherlands/coteq_electricity_2019.csv')\n",
    "netherlands.dropna()\n",
    "netherlands.head(5)"
   ]
  },
  {
   "cell_type": "markdown",
   "metadata": {},
   "source": [
    "If you want to obtain the average consumption of the whole dataset, you could calculate it as:"
   ]
  },
  {
   "cell_type": "code",
   "execution_count": 31,
   "metadata": {},
   "outputs": [
    {
     "data": {
      "text/plain": [
       "3971.755364806867"
      ]
     },
     "execution_count": 31,
     "metadata": {},
     "output_type": "execute_result"
    }
   ],
   "source": [
    "netherlands['annual_consume'].mean()"
   ]
  },
  {
   "cell_type": "code",
   "execution_count": 32,
   "metadata": {},
   "outputs": [
    {
     "data": {
      "text/plain": [
       "3147.0"
      ]
     },
     "execution_count": 32,
     "metadata": {},
     "output_type": "execute_result"
    }
   ],
   "source": [
    "netherlands['annual_consume'].median()"
   ]
  },
  {
   "cell_type": "markdown",
   "metadata": {},
   "source": [
    "#### But if we take a good look at the *dataset* we can see that this average is not fair. Why?"
   ]
  },
  {
   "cell_type": "code",
   "execution_count": 33,
   "metadata": {},
   "outputs": [
    {
     "data": {
      "text/plain": [
       "<matplotlib.lines.Line2D at 0x7f93a0796040>"
      ]
     },
     "execution_count": 33,
     "metadata": {},
     "output_type": "execute_result"
    },
    {
     "data": {
      "image/png": "[encoded data removed]",
      "text/plain": [
       "<Figure size 864x576 with 1 Axes>"
      ]
     },
     "metadata": {
      "needs_background": "light"
     },
     "output_type": "display_data"
    }
   ],
   "source": [
    "# PROFESSOR\n",
    "# let's check for some max values and minimum\n",
    "netherlands.describe()\n",
    "\n",
    "# let's check histogram\n",
    "plt.figure(figsize=(12,8))\n",
    "sns.histplot(data = netherlands[\"annual_consume\"], color=colors_names[0], bins = 50, alpha=0.5, label='Week')\n",
    "plt.axvline(x=netherlands[\"annual_consume\"].mean(), color='red', linestyle='--', label='Threshold')\n",
    "plt.axvline(x=netherlands[\"annual_consume\"].median(), color='yellow', linestyle='--', label='Threshold')"
   ]
  },
  {
   "cell_type": "markdown",
   "metadata": {},
   "source": [
    "We have seen how there are times when computing the average, even if it can be done, would not be correct. At other times, what will happen is that we cannot compute the mean at all. For example"
   ]
  },
  {
   "cell_type": "markdown",
   "metadata": {},
   "source": [
    "In this case, the **median** may be a good alternative measure.\n",
    "\n",
    "Another advantage of the median is that it does not consider equally all elements of the distribution, which makes it more resistant to changes in the distribution.\n",
    "\n",
    "#### Mode\n",
    "\n",
    "We have seen that sometimes the mean will not give us the information we are looking for, or simply cannot be calculated and we will use the median. On other occasions, however, the mode can also be useful to us. For example:"
   ]
  },
  {
   "cell_type": "code",
   "execution_count": 34,
   "metadata": {},
   "outputs": [
    {
     "data": {
      "text/plain": [
       "0    ENTER\n",
       "1     GOOR\n",
       "2     GOOR\n",
       "3     GOOR\n",
       "4     GOOR\n",
       "Name: city, dtype: object"
      ]
     },
     "execution_count": 34,
     "metadata": {},
     "output_type": "execute_result"
    }
   ],
   "source": [
    "netherlands['city'].head(5)"
   ]
  },
  {
   "cell_type": "code",
   "execution_count": 35,
   "metadata": {},
   "outputs": [
    {
     "data": {
      "text/plain": [
       "ALMELO       1577\n",
       "OLDENZAAL     714\n",
       "GOOR          271\n",
       "ENTER           1\n",
       "Name: city, dtype: int64"
      ]
     },
     "execution_count": 35,
     "metadata": {},
     "output_type": "execute_result"
    }
   ],
   "source": [
    "netherlands['city'].value_counts()"
   ]
  },
  {
   "cell_type": "markdown",
   "metadata": {},
   "source": [
    "## 3.3 Variability\n",
    "\n",
    "Let's look at two distributions:"
   ]
  },
  {
   "cell_type": "code",
   "execution_count": 36,
   "metadata": {},
   "outputs": [
    {
     "name": "stdout",
     "output_type": "stream",
     "text": [
      "The mean of A is: 4.0\n",
      "The mean of B is: 4.0\n"
     ]
    }
   ],
   "source": [
    "import numpy as np\n",
    "\n",
    "A=[4,4,4,4]\n",
    "B=[0,8,0,8]\n",
    "\n",
    "print('The mean of A is:',np.mean(A))\n",
    "print('The mean of B is:',np.mean(B))"
   ]
  },
  {
   "cell_type": "code",
   "execution_count": 37,
   "metadata": {},
   "outputs": [
    {
     "data": {
      "text/plain": [
       "<matplotlib.legend.Legend at 0x7f93e0103730>"
      ]
     },
     "execution_count": 37,
     "metadata": {},
     "output_type": "execute_result"
    },
    {
     "data": {
      "image/png": "[encoded data removed]",
      "text/plain": [
       "<Figure size 432x288 with 1 Axes>"
      ]
     },
     "metadata": {
      "needs_background": "light"
     },
     "output_type": "display_data"
    }
   ],
   "source": [
    "plt.hist(A, label=\"A\")\n",
    "plt.hist(B, label= \"B\")\n",
    "plt.legend()"
   ]
  },
  {
   "cell_type": "markdown",
   "metadata": {},
   "source": [
    "Indeed, two very different distributions can have the same mean.\n",
    "\n",
    "What other parameter can help us to distinguish the two distributions? For example, the range:"
   ]
  },
  {
   "cell_type": "code",
   "execution_count": 38,
   "metadata": {},
   "outputs": [
    {
     "name": "stdout",
     "output_type": "stream",
     "text": [
      "The range of A is: 0\n",
      "The range of B is: 8\n"
     ]
    }
   ],
   "source": [
    "range_A=max(A)-min(A)\n",
    "range_B=max(B)-min(B)\n",
    "\n",
    "print('The range of A is:',range_A)\n",
    "print('The range of B is:',range_B)"
   ]
  },
  {
   "cell_type": "markdown",
   "metadata": {},
   "source": [
    "But the range only considers two values, and it is not a good solution:"
   ]
  },
  {
   "cell_type": "code",
   "execution_count": 39,
   "metadata": {},
   "outputs": [
    {
     "name": "stdout",
     "output_type": "stream",
     "text": [
      "The mean of C is: 2.176470588235294\n",
      "The range of C is: 20\n"
     ]
    }
   ],
   "source": [
    "C=[1,1,1,1,1,1,1,1,1,1,1,1,1,1,1,1,21]\n",
    "\n",
    "range_C=max(C)-min(C)\n",
    "print('The mean of C is:',np.mean(C))\n",
    "print('The range of C is:',range_C)"
   ]
  },
  {
   "cell_type": "markdown",
   "metadata": {},
   "source": [
    "We see that we have a distribution with very little variability, but with a very high range. This is because it only considers two values of the distribution and not the whole distribution."
   ]
  },
  {
   "cell_type": "markdown",
   "metadata": {},
   "source": [
    "If we consider all values we can calculate:\n",
    "\n",
    "<img src=\"Figures/variabilities.svg\" alt=\"Drawing\" style=\"width: 450px;\"/>"
   ]
  },
  {
   "cell_type": "markdown",
   "metadata": {},
   "source": [
    "\n",
    "\n"
   ]
  },
  {
   "cell_type": "markdown",
   "metadata": {},
   "source": [
    "To avoid this, we will use:\n",
    "\n",
    "$$ Variance = \\frac{1}{n} \\sum_i (x_i - \\mu)^2 $$"
   ]
  },
  {
   "cell_type": "markdown",
   "metadata": {},
   "source": [
    "<div style=\"background-color:#ccffcc; padding:10px; border-radius:5px;\">\n",
    "\n",
    "### <span style=\"color:blue\">Exercise 5</span>\n",
    "Use the variance formula for the top three distributions. Write a function. What values are obtained?\n",
    "    </div>"
   ]
  },
  {
   "cell_type": "code",
   "execution_count": 42,
   "metadata": {},
   "outputs": [],
   "source": [
    "# We write the mean for all the distributions\n",
    "\n",
    "dist1 = [1, 2, 8, 9]\n",
    "dist2 = [3, 4, 6, 7]\n",
    "dist3 = [5, 5, 5, 5]"
   ]
  },
  {
   "cell_type": "code",
   "execution_count": 45,
   "metadata": {},
   "outputs": [],
   "source": [
    "# write your code here (variance function)\n",
    "\n",
    "def var_func(dist):\n",
    "    v = 0\n",
    "    n = len(dist)\n",
    "    m = np.mean(dist)\n",
    "    \n",
    "    for x in dist:\n",
    "        summ = (x - m)**2\n",
    "        v = v + summ\n",
    "        \n",
    "    return v/n\n"
   ]
  },
  {
   "cell_type": "code",
   "execution_count": 46,
   "metadata": {},
   "outputs": [
    {
     "name": "stdout",
     "output_type": "stream",
     "text": [
      "Variance Dist 1:  12.5\n",
      "Variance Dist 2:  2.5\n",
      "Variance Dist 3:  0.0\n"
     ]
    }
   ],
   "source": [
    "print('Variance Dist 1: ', var_func(dist1))\n",
    "print('Variance Dist 2: ', var_func(dist2))\n",
    "print('Variance Dist 3: ', var_func(dist3))"
   ]
  },
  {
   "cell_type": "markdown",
   "metadata": {},
   "source": [
    "!!!! The problem with the variance is that it does not give a value that does not make any sense to us.\n",
    "\n",
    "A shorter way: the variance method is `np.var()`"
   ]
  },
  {
   "cell_type": "code",
   "execution_count": 47,
   "metadata": {},
   "outputs": [
    {
     "name": "stdout",
     "output_type": "stream",
     "text": [
      "Variance Dist 1:  12.5\n",
      "Variance Dist 2:  2.5\n",
      "Variance Dist 3:  0.0\n"
     ]
    }
   ],
   "source": [
    "print('Variance Dist 1: ', np.var(dist1))\n",
    "print('Variance Dist 2: ', np.var(dist2))\n",
    "print('Variance Dist 3: ', np.var(dist3))"
   ]
  },
  {
   "cell_type": "markdown",
   "metadata": {},
   "source": [
    "### Let's see another example"
   ]
  },
  {
   "cell_type": "code",
   "execution_count": 48,
   "metadata": {},
   "outputs": [
    {
     "name": "stdout",
     "output_type": "stream",
     "text": [
      "The variance: 8.24\n"
     ]
    }
   ],
   "source": [
    "week_consum =[0, 7, 8, 5, 7]\n",
    "\n",
    "print('The variance:', np.var(week_consum))"
   ]
  },
  {
   "cell_type": "markdown",
   "metadata": {},
   "source": [
    "For this, we use  **standard deviation**\n",
    "\n",
    "Variance $$ \\sigma^2 = \\frac{1}{n} \\sum_i (x_i - \\mu)^2 $$\n",
    "\n",
    "Standard Deviation $$ \\sigma = \\sqrt (\\frac{1}{n} \\sum_i (x_i - \\mu)^2) $$\n"
   ]
  },
  {
   "cell_type": "code",
   "execution_count": 49,
   "metadata": {},
   "outputs": [
    {
     "name": "stdout",
     "output_type": "stream",
     "text": [
      "The standard deviation is: 2.870540018881465\n",
      "The mean is: 5.4\n"
     ]
    }
   ],
   "source": [
    "week_consum =[0, 7, 8, 5, 7]\n",
    "\n",
    "print('The standard deviation is:', np.std(week_consum))\n",
    "print('The mean is:', np.mean(week_consum))"
   ]
  },
  {
   "cell_type": "markdown",
   "metadata": {},
   "source": [
    "## Standard deviation in normal distributions and boxplots\n",
    "\n",
    "<img src=\"Figures/boxplot_normal_dist.png\" alt=\"Drawing\" style=\"width: 600px;\"/>"
   ]
  },
  {
   "cell_type": "markdown",
   "metadata": {},
   "source": [
    "### Let's calculate the distribution and standard deviation for a sample: end user MAC000113, Energy Max"
   ]
  },
  {
   "cell_type": "code",
   "execution_count": 50,
   "metadata": {},
   "outputs": [],
   "source": [
    "MAC000113_energy_max = london.loc[london['LCLid']=='MAC000113']['energy_max']"
   ]
  },
  {
   "cell_type": "code",
   "execution_count": 50,
   "metadata": {},
   "outputs": [],
   "source": [
    "MAC000113_energy_max = london.loc[london['LCLid']=='MAC000113']['energy_max']"
   ]
  },
  {
   "cell_type": "code",
   "execution_count": 51,
   "metadata": {},
   "outputs": [
    {
     "data": {
      "text/plain": [
       "<matplotlib.legend.Legend at 0x7f93c8c8ed30>"
      ]
     },
     "execution_count": 51,
     "metadata": {},
     "output_type": "execute_result"
    },
    {
     "data": {
      "image/png": "[encoded data removed]",
      "text/plain": [
       "<Figure size 432x288 with 1 Axes>"
      ]
     },
     "metadata": {
      "needs_background": "light"
     },
     "output_type": "display_data"
    }
   ],
   "source": [
    "import matplotlib.pyplot as plt\n",
    "\n",
    "mean = MAC000113_energy_max.mean()\n",
    "st_dev = MAC000113_energy_max.std()\n",
    "MAC000113_energy_max.plot.hist(bins=20)\n",
    "plt.axvline(mean, color = 'black', label = 'Mean')\n",
    "plt.axvline(mean - st_dev, color = 'Red', label = '-1σ')\n",
    "plt.axvline(mean + st_dev, color = 'Violet', label = '+1σ')\n",
    "plt.axvline(mean - 2*st_dev, color = 'Red', label = '-2σ')\n",
    "plt.axvline(mean + 2*st_dev, color = 'Violet', label = '+2σ')\n",
    "plt.axvline(mean - 3*st_dev, color = 'Red', label = '-3σ')\n",
    "plt.axvline(mean + 3*st_dev, color = 'Violet', label = '+3σ')\n",
    "plt.xlabel('Energy')\n",
    "plt.legend()"
   ]
  },
  {
   "cell_type": "markdown",
   "metadata": {},
   "source": [
    "<div style=\"background-color:#ccffcc; padding:10px; border-radius:5px;\">\n",
    "\n",
    "### <span style=\"color:blue\">Exercise 6</span>\n",
    "Show the boxplot\n",
    "    </div>"
   ]
  },
  {
   "cell_type": "code",
   "execution_count": null,
   "metadata": {},
   "outputs": [],
   "source": [
    "# Write your code here\n",
    "\n",
    "\n",
    "\n",
    "\n",
    "\n",
    "\n"
   ]
  },
  {
   "cell_type": "markdown",
   "metadata": {},
   "source": [
    "### Let's check another example and distribution: energy max from population"
   ]
  },
  {
   "cell_type": "code",
   "execution_count": null,
   "metadata": {},
   "outputs": [],
   "source": [
    "import matplotlib.pyplot as plt\n",
    "\n",
    "mean = london['energy_max'].mean()\n",
    "st_dev = london['energy_max'].std()\n",
    "london['energy_max'].plot.hist(bins=20)\n",
    "plt.axvline(mean, color = 'Black', label = 'Mean')\n",
    "plt.axvline(mean - st_dev, color = 'Red', label = '-1σ')\n",
    "plt.axvline(mean + st_dev, color = 'Violet', label = '+1σ')\n",
    "plt.axvline(mean - 2*st_dev, color = 'Red', label = '-2σ')\n",
    "plt.axvline(mean + 2*st_dev, color = 'Violet', label = '+2σ')\n",
    "plt.axvline(mean - 3*st_dev, color = 'Red', label = '-3σ')\n",
    "plt.axvline(mean + 3*st_dev, color = 'Violet', label = '+3σ')\n",
    "plt.xlabel('Energy')\n",
    "plt.legend()"
   ]
  },
  {
   "cell_type": "markdown",
   "metadata": {},
   "source": [
    "<div style=\"background-color:#ccffcc; padding:10px; border-radius:5px;\">\n",
    "\n",
    "### <span style=\"color:blue\">Exercise 7</span>\n",
    "Show the boxplot\n",
    "    </div>"
   ]
  },
  {
   "cell_type": "code",
   "execution_count": null,
   "metadata": {},
   "outputs": [],
   "source": [
    "# write your code here\n",
    "\n",
    "\n",
    "\n",
    "\n",
    "\n",
    "\n"
   ]
  },
  {
   "cell_type": "markdown",
   "metadata": {},
   "source": [
    "<div style=\"background-color:#ccffcc; padding:10px; border-radius:5px;\">\n",
    "\n",
    "### <span style=\"color:blue\">Exercise 8</span>\n",
    "    \n",
    "Show the boxplots of all endusers (LCLid) for the Energy Max. \n",
    "    \n",
    " + Which end-user has more variability?\n",
    " + Show the distribution of the user with higher variability according to the boxplot\n",
    "    </div>"
   ]
  },
  {
   "cell_type": "code",
   "execution_count": null,
   "metadata": {},
   "outputs": [],
   "source": [
    "# Your code here: BOXPLOT of all endusers for EnergyMax\n",
    "\n",
    "\n",
    "\n",
    "\n",
    "\n",
    "\n",
    "\n",
    "\n",
    "\n"
   ]
  },
  {
   "cell_type": "code",
   "execution_count": null,
   "metadata": {},
   "outputs": [],
   "source": [
    "# Your code here: DISTRIBUTION for EnergyMax for Enduser with more variability \n",
    "\n",
    "\n",
    "\n",
    "\n",
    "\n",
    "\n",
    "\n",
    "\n",
    "\n",
    "\n"
   ]
  },
  {
   "cell_type": "markdown",
   "metadata": {},
   "source": [
    "\n",
    "<div style=\"background-color:#ccffcc; padding:10px; border-radius:5px;\">\n",
    "\n",
    "### <span style=\"color:blue\">Exercise 9</span>\n",
    "\n",
    "Create for MAC005331 two histograms in one Figure: one for energy_mean on week days and another for energy_mean on weekends.\n",
    "    </div>"
   ]
  },
  {
   "cell_type": "code",
   "execution_count": null,
   "metadata": {},
   "outputs": [],
   "source": [
    "# write your code here\n",
    "\n",
    "\n"
   ]
  },
  {
   "cell_type": "code",
   "execution_count": null,
   "metadata": {},
   "outputs": [],
   "source": []
  },
  {
   "cell_type": "code",
   "execution_count": null,
   "metadata": {},
   "outputs": [],
   "source": []
  },
  {
   "cell_type": "code",
   "execution_count": null,
   "metadata": {},
   "outputs": [],
   "source": []
  },
  {
   "cell_type": "code",
   "execution_count": null,
   "metadata": {},
   "outputs": [],
   "source": []
  },
  {
   "cell_type": "code",
   "execution_count": null,
   "metadata": {
    "scrolled": true
   },
   "outputs": [],
   "source": []
  },
  {
   "cell_type": "code",
   "execution_count": null,
   "metadata": {},
   "outputs": [],
   "source": []
  },
  {
   "cell_type": "code",
   "execution_count": null,
   "metadata": {},
   "outputs": [],
   "source": []
  },
  {
   "cell_type": "code",
   "execution_count": null,
   "metadata": {},
   "outputs": [],
   "source": []
  },
  {
   "cell_type": "code",
   "execution_count": null,
   "metadata": {},
   "outputs": [],
   "source": []
  },
  {
   "cell_type": "code",
   "execution_count": null,
   "metadata": {},
   "outputs": [],
   "source": []
  }
 ],
 "metadata": {
  "kernelspec": {
   "display_name": "Python 3 (ipykernel)",
   "language": "python",
   "name": "python3"
  },
  "language_info": {
   "codemirror_mode": {
    "name": "ipython",
    "version": 3
   },
   "file_extension": ".py",
   "mimetype": "text/x-python",
   "name": "python",
   "nbconvert_exporter": "python",
   "pygments_lexer": "ipython3",
   "version": "3.12.4"
  },
  "widgets": {
   "state": {},
   "version": "1.1.1"
  }
 },
 "nbformat": 4,
 "nbformat_minor": 4
}
